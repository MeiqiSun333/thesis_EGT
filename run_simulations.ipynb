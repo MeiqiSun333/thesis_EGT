{
 "cells": [
  {
   "cell_type": "markdown",
   "id": "dcc51d8d",
   "metadata": {},
   "source": [
    "## Default - Null model"
   ]
  },
  {
   "cell_type": "code",
   "execution_count": 1,
   "id": "32c73871",
   "metadata": {},
   "outputs": [],
   "source": [
    "import os\n",
    "import numpy as np\n",
    "import Simulate\n",
    "from datetime import datetime"
   ]
  },
  {
   "cell_type": "code",
   "execution_count": null,
   "id": "ea2fd04c",
   "metadata": {},
   "outputs": [
    {
     "name": "stdout",
     "output_type": "stream",
     "text": [
      "Round: 0\n",
      "Round: 0\n",
      "Round: 0\n",
      "Round: 0\n",
      "Round: 0\n",
      "Round: 0\n",
      "Round: 0\n",
      "Round: 0\n",
      "Round: 0\n",
      "Round: 0\n",
      "Round: 0\n",
      "Round: 0\n",
      "Round: 0\n",
      "Round: 0\n"
     ]
    }
   ],
   "source": [
    "os.makedirs(\"Data/total_effect\", exist_ok=True)\n",
    "\n",
    "repetitions = 10\n",
    "for _ in range(repetitions):\n",
    "    parameters = {\n",
    "        \"N\": 200,\n",
    "        \"rewiring_p\": 1,\n",
    "        \"alpha\": 0.5,\n",
    "        \"rat\": 0,\n",
    "        \"network\": (\"HK\", 4, 0.3),\n",
    "        \"rounds\": 1,\n",
    "        \"steps\": 200,\n",
    "        \"alwaysOwn\": False,\n",
    "        \"alwaysSafe\": False,\n",
    "        \"UV\": (True, None, None, False),\n",
    "        \"risk_distribution\": \"default\",\n",
    "        \"utility_function\": \"prospect\",\n",
    "        \"normalizeGames\": False,\n",
    "        \"risk\": 0,\n",
    "        \"null_model\": True\n",
    "    }\n",
    "\n",
    "    timestamp = datetime.now().strftime(\"%H-%M\")\n",
    "    _, agent_data = Simulate.simulate(**parameters)\n",
    "    agent_data.to_csv(f\"Data/total_effect/agent_data_null_{timestamp}.csv\", index=False)\n",
    "\n",
    "    parameters = {\n",
    "        \"N\": 200,\n",
    "        \"rewiring_p\": 1,\n",
    "        \"alpha\": 0.5,\n",
    "        \"rat\": 0,\n",
    "        \"network\": (\"HK\", 4, 0.3),\n",
    "        \"rounds\": 1,\n",
    "        \"steps\": 200,\n",
    "        \"alwaysOwn\": False,\n",
    "        \"alwaysSafe\": False,\n",
    "        \"UV\": (True, None, None, False),\n",
    "        \"risk_distribution\": \"default\",\n",
    "        \"utility_function\": \"prospect\",\n",
    "        \"normalizeGames\": False,\n",
    "        \"risk\": 0,\n",
    "    }\n",
    "\n",
    "    timestamp = datetime.now().strftime(\"%H-%M\")\n",
    "    _, agent_data = Simulate.simulate(**parameters)\n",
    "    agent_data.to_csv(f\"Data/total_effect/agent_data_{timestamp}.csv\", index=False)"
   ]
  },
  {
   "cell_type": "code",
   "execution_count": 3,
   "id": "207f7b80",
   "metadata": {},
   "outputs": [
    {
     "name": "stdout",
     "output_type": "stream",
     "text": [
      "Round: 0\n",
      "Round: 0\n",
      "Round: 0\n",
      "Round: 0\n",
      "Round: 0\n",
      "Round: 0\n",
      "Round: 0\n",
      "Round: 0\n",
      "Round: 0\n",
      "Round: 0\n",
      "Round: 0\n",
      "Round: 0\n",
      "Round: 0\n",
      "Round: 0\n",
      "Round: 0\n",
      "Round: 0\n",
      "Round: 0\n",
      "Round: 0\n",
      "Round: 0\n",
      "Round: 0\n"
     ]
    }
   ],
   "source": [
    "os.makedirs(\"Data/total_effect_norm\", exist_ok=True)\n",
    "\n",
    "repetitions = 10\n",
    "for _ in range(repetitions):\n",
    "    parameters = {\n",
    "        \"N\": 200,\n",
    "        \"rewiring_p\": 1,\n",
    "        \"alpha\": 0.5,\n",
    "        \"rat\": 0,\n",
    "        \"network\": (\"HK\", 4, 0.3),\n",
    "        \"rounds\": 1,\n",
    "        \"steps\": 200,\n",
    "        \"alwaysOwn\": False,\n",
    "        \"alwaysSafe\": False,\n",
    "        \"UV\": (True, None, None, False),\n",
    "        \"risk_distribution\": \"default\",\n",
    "        \"utility_function\": \"prospect\",\n",
    "        \"normalizeGames\": True,\n",
    "        \"risk\": 0,\n",
    "        \"null_model\": True\n",
    "    }\n",
    "\n",
    "    timestamp = datetime.now().strftime(\"%H-%M\")\n",
    "    _, agent_data = Simulate.simulate(**parameters)\n",
    "    agent_data.to_csv(f\"Data/total_effect_norm/agent_data_null_{timestamp}.csv\", index=False)\n",
    "\n",
    "    parameters = {\n",
    "        \"N\": 200,\n",
    "        \"rewiring_p\": 1,\n",
    "        \"alpha\": 0.5,\n",
    "        \"rat\": 0,\n",
    "        \"network\": (\"HK\", 4, 0.3),\n",
    "        \"rounds\": 1,\n",
    "        \"steps\": 200,\n",
    "        \"alwaysOwn\": False,\n",
    "        \"alwaysSafe\": False,\n",
    "        \"UV\": (True, None, None, False),\n",
    "        \"risk_distribution\": \"default\",\n",
    "        \"utility_function\": \"prospect\",\n",
    "        \"normalizeGames\": True,\n",
    "        \"risk\": 0,\n",
    "    }\n",
    "\n",
    "    timestamp = datetime.now().strftime(\"%H-%M\")\n",
    "    _, agent_data = Simulate.simulate(**parameters)\n",
    "    agent_data.to_csv(f\"Data/total_effect_norm/agent_data_{timestamp}.csv\", index=False)"
   ]
  },
  {
   "cell_type": "markdown",
   "id": "0aca73ba",
   "metadata": {},
   "source": [
    "## Network influence: fix eta & lambda - null model"
   ]
  },
  {
   "cell_type": "code",
   "execution_count": 6,
   "id": "7b8b8370",
   "metadata": {},
   "outputs": [],
   "source": [
    "import os\n",
    "import Simulate\n",
    "from datetime import datetime"
   ]
  },
  {
   "cell_type": "code",
   "execution_count": null,
   "id": "2e9c2dde",
   "metadata": {},
   "outputs": [
    {
     "name": "stdout",
     "output_type": "stream",
     "text": [
      "Round: 0\n",
      "Round: 0\n",
      "Round: 0\n",
      "Round: 0\n",
      "Round: 0\n",
      "Round: 0\n",
      "Round: 0\n",
      "Round: 0\n",
      "Round: 0\n",
      "Round: 0\n",
      "Round: 0\n",
      "Round: 0\n",
      "Round: 0\n",
      "Round: 0\n"
     ]
    }
   ],
   "source": [
    "os.makedirs(\"Data/doublefixed\", exist_ok=True)\n",
    "\n",
    "repetitions = 10\n",
    "for _ in range(repetitions):\n",
    "    parameters = {\n",
    "        \"N\": 200,\n",
    "        \"rewiring_p\": 1,\n",
    "        \"alpha\": 0.5,\n",
    "        \"rat\": 0,\n",
    "        \"network\": (\"HK\", 4, 0.3),\n",
    "        \"rounds\": 1,\n",
    "        \"steps\": 200,\n",
    "        \"alwaysOwn\": False,\n",
    "        \"alwaysSafe\": False,\n",
    "        \"UV\": (True, None, None, False),\n",
    "        \"risk_distribution\": \"default\",\n",
    "        \"utility_function\": \"prospect\",\n",
    "        \"normalizeGames\": False,\n",
    "        \"risk\": 0,\n",
    "        \"null_model\": False,\n",
    "        \"fix_rationality\": True,\n",
    "        \"fix_eta\": True\n",
    "    }\n",
    "\n",
    "    timestamp = datetime.now().strftime(\"%H-%M\")\n",
    "    _, agent_data = Simulate.simulate(**parameters)\n",
    "    agent_data.to_csv(f\"Data/doublefixed/agent_data_baseline_{timestamp}.csv\", index=False)\n",
    "\n",
    "    parameters = {\n",
    "        \"N\": 200,\n",
    "        \"rewiring_p\": 1,\n",
    "        \"alpha\": 0.5,\n",
    "        \"rat\": 0,\n",
    "        \"network\": (\"HK\", 4, 0.3),\n",
    "        \"rounds\": 1,\n",
    "        \"steps\": 200,\n",
    "        \"alwaysOwn\": False,\n",
    "        \"alwaysSafe\": False,\n",
    "        \"UV\": (True, None, None, False),\n",
    "        \"risk_distribution\": \"default\",\n",
    "        \"utility_function\": \"prospect\",\n",
    "        \"normalizeGames\": False,\n",
    "        \"risk\": 0,\n",
    "        \"null_model\": True\n",
    "    }\n",
    "\n",
    "    _, agent_data = Simulate.simulate(**parameters)\n",
    "    agent_data.to_csv(f\"Data/doublefixed/agent_data_null_{timestamp}.csv\", index=False)"
   ]
  },
  {
   "cell_type": "code",
   "execution_count": 7,
   "id": "5d45b6b3",
   "metadata": {},
   "outputs": [
    {
     "name": "stdout",
     "output_type": "stream",
     "text": [
      "Round: 0\n",
      "Round: 0\n",
      "Round: 0\n",
      "Round: 0\n",
      "Round: 0\n",
      "Round: 0\n",
      "Round: 0\n",
      "Round: 0\n",
      "Round: 0\n",
      "Round: 0\n",
      "Round: 0\n",
      "Round: 0\n",
      "Round: 0\n",
      "Round: 0\n",
      "Round: 0\n",
      "Round: 0\n",
      "Round: 0\n",
      "Round: 0\n",
      "Round: 0\n",
      "Round: 0\n"
     ]
    }
   ],
   "source": [
    "os.makedirs(\"Data/doublefixed_norm\", exist_ok=True)\n",
    "\n",
    "repetitions = 10\n",
    "for _ in range(repetitions):\n",
    "    parameters = {\n",
    "        \"N\": 200,\n",
    "        \"rewiring_p\": 1,\n",
    "        \"alpha\": 0.5,\n",
    "        \"rat\": 0,\n",
    "        \"network\": (\"HK\", 4, 0.3),\n",
    "        \"rounds\": 1,\n",
    "        \"steps\": 200,\n",
    "        \"alwaysOwn\": False,\n",
    "        \"alwaysSafe\": False,\n",
    "        \"UV\": (True, None, None, False),\n",
    "        \"risk_distribution\": \"default\",\n",
    "        \"utility_function\": \"prospect\",\n",
    "        \"normalizeGames\": True,\n",
    "        \"risk\": 0,\n",
    "        \"null_model\": False,\n",
    "        \"fix_rationality\": True,\n",
    "        \"fix_eta\": True\n",
    "    }\n",
    "\n",
    "    timestamp = datetime.now().strftime(\"%H-%M\")\n",
    "    _, agent_data = Simulate.simulate(**parameters)\n",
    "    agent_data.to_csv(f\"Data/doublefixed_norm/agent_data_baseline_{timestamp}.csv\", index=False)\n",
    "\n",
    "    parameters = {\n",
    "        \"N\": 200,\n",
    "        \"rewiring_p\": 1,\n",
    "        \"alpha\": 0.5,\n",
    "        \"rat\": 0,\n",
    "        \"network\": (\"HK\", 4, 0.3),\n",
    "        \"rounds\": 1,\n",
    "        \"steps\": 200,\n",
    "        \"alwaysOwn\": False,\n",
    "        \"alwaysSafe\": False,\n",
    "        \"UV\": (True, None, None, False),\n",
    "        \"risk_distribution\": \"default\",\n",
    "        \"utility_function\": \"prospect\",\n",
    "        \"normalizeGames\": True,\n",
    "        \"risk\": 0,\n",
    "        \"null_model\": True\n",
    "    }\n",
    "\n",
    "    _, agent_data = Simulate.simulate(**parameters)\n",
    "    agent_data.to_csv(f\"Data/doublefixed_norm/agent_data_null_{timestamp}.csv\", index=False)"
   ]
  },
  {
   "cell_type": "markdown",
   "id": "d36d945c",
   "metadata": {},
   "source": [
    "## Network convergence"
   ]
  },
  {
   "cell_type": "code",
   "execution_count": 1,
   "id": "9ac22983",
   "metadata": {},
   "outputs": [],
   "source": [
    "import os\n",
    "import Simulate\n",
    "from datetime import datetime"
   ]
  },
  {
   "cell_type": "code",
   "execution_count": null,
   "id": "e4ba7d2b",
   "metadata": {},
   "outputs": [
    {
     "name": "stdout",
     "output_type": "stream",
     "text": [
      "Round: 0\n",
      "Round: 0\n"
     ]
    }
   ],
   "source": [
    "repetitions = 10\n",
    "networks_list = [(\"HK\", 6, 0.3), (\"ER\", 0.03, None)]\n",
    "os.makedirs(\"Data/hk_er\", exist_ok=True)\n",
    "for _ in range(repetitions):\n",
    "    for network_type in networks_list:\n",
    "        parameters = {\n",
    "            \"N\": 200,\n",
    "            \"rewiring_p\": 1,\n",
    "            \"alpha\": 0.5,\n",
    "            \"rat\": 0,\n",
    "            \"network\": network_type,\n",
    "            \"rounds\": 1,\n",
    "            \"steps\": 200,\n",
    "            \"alwaysOwn\": False,\n",
    "            \"alwaysSafe\": False,\n",
    "            \"UV\": (True, None, None, False),\n",
    "            \"risk_distribution\": \"default\",\n",
    "            \"utility_function\": \"prospect\",\n",
    "            \"normalizeGames\": True,\n",
    "            \"risk\": 0\n",
    "        }\n",
    "\n",
    "        timestamp = datetime.now().strftime(\"%Y-%m-%d_%H-%M\")\n",
    "        model_data, agent_data = Simulate.simulate(**parameters)\n",
    "        network_label = network_type[0]\n",
    "        # model_data.to_csv(f\"Data/hk_er/model_data_{network_label}_{timestamp}.csv\", index=False)\n",
    "        agent_data.to_csv(f\"Data/hk_er/agent_data_{network_label}_{timestamp}.csv\", index=False)"
   ]
  },
  {
   "cell_type": "code",
   "execution_count": null,
   "id": "efdb7154",
   "metadata": {},
   "outputs": [
    {
     "name": "stdout",
     "output_type": "stream",
     "text": [
      "Round: 0\n"
     ]
    },
    {
     "ename": "KeyboardInterrupt",
     "evalue": "",
     "output_type": "error",
     "traceback": [
      "\u001b[0;31m---------------------------------------------------------------------------\u001b[0m",
      "\u001b[0;31mKeyboardInterrupt\u001b[0m                         Traceback (most recent call last)",
      "Cell \u001b[0;32mIn[8], line 24\u001b[0m\n\u001b[1;32m      6\u001b[0m parameters \u001b[38;5;241m=\u001b[39m {\n\u001b[1;32m      7\u001b[0m     \u001b[38;5;124m\"\u001b[39m\u001b[38;5;124mN\u001b[39m\u001b[38;5;124m\"\u001b[39m: \u001b[38;5;241m200\u001b[39m,\n\u001b[1;32m      8\u001b[0m     \u001b[38;5;124m\"\u001b[39m\u001b[38;5;124mrewiring_p\u001b[39m\u001b[38;5;124m\"\u001b[39m: \u001b[38;5;241m1\u001b[39m,\n\u001b[0;32m   (...)\u001b[0m\n\u001b[1;32m     20\u001b[0m     \u001b[38;5;124m\"\u001b[39m\u001b[38;5;124mrisk\u001b[39m\u001b[38;5;124m\"\u001b[39m: \u001b[38;5;241m0\u001b[39m\n\u001b[1;32m     21\u001b[0m }\n\u001b[1;32m     23\u001b[0m timestamp \u001b[38;5;241m=\u001b[39m datetime\u001b[38;5;241m.\u001b[39mnow()\u001b[38;5;241m.\u001b[39mstrftime(\u001b[38;5;124m\"\u001b[39m\u001b[38;5;124m%\u001b[39m\u001b[38;5;124mY-\u001b[39m\u001b[38;5;124m%\u001b[39m\u001b[38;5;124mm-\u001b[39m\u001b[38;5;132;01m%d\u001b[39;00m\u001b[38;5;124m_\u001b[39m\u001b[38;5;124m%\u001b[39m\u001b[38;5;124mH-\u001b[39m\u001b[38;5;124m%\u001b[39m\u001b[38;5;124mM\u001b[39m\u001b[38;5;124m\"\u001b[39m)\n\u001b[0;32m---> 24\u001b[0m model_data, _ \u001b[38;5;241m=\u001b[39m Simulate\u001b[38;5;241m.\u001b[39msimulate(\u001b[38;5;241m*\u001b[39m\u001b[38;5;241m*\u001b[39mparameters)\n\u001b[1;32m     25\u001b[0m network_label \u001b[38;5;241m=\u001b[39m network_type[\u001b[38;5;241m0\u001b[39m]\n\u001b[1;32m     26\u001b[0m model_data\u001b[38;5;241m.\u001b[39mto_csv(\u001b[38;5;124mf\u001b[39m\u001b[38;5;124m\"\u001b[39m\u001b[38;5;124mData/network_convergence_norm/model_data_\u001b[39m\u001b[38;5;132;01m{\u001b[39;00mnetwork_label\u001b[38;5;132;01m}\u001b[39;00m\u001b[38;5;124m_\u001b[39m\u001b[38;5;132;01m{\u001b[39;00mtimestamp\u001b[38;5;132;01m}\u001b[39;00m\u001b[38;5;124m.csv\u001b[39m\u001b[38;5;124m\"\u001b[39m, index\u001b[38;5;241m=\u001b[39m\u001b[38;5;28;01mFalse\u001b[39;00m)\n",
      "File \u001b[0;32m~/Desktop/thesis_code/Simulate.py:60\u001b[0m, in \u001b[0;36msimulate\u001b[0;34m(N, rewiring_p, alpha, rat, network, rounds, steps, netRat, alwaysOwn, alwaysSafe, UV, risk_distribution, utility_function, normalizeGames, dependence, dependence_game, risk, mutation_rate, null_model, fix_eta, fix_rationality, period)\u001b[0m\n\u001b[1;32m     58\u001b[0m \u001b[38;5;66;03m# Step through the simulation.\u001b[39;00m\n\u001b[1;32m     59\u001b[0m \u001b[38;5;28;01mfor\u001b[39;00m _ \u001b[38;5;129;01min\u001b[39;00m \u001b[38;5;28mrange\u001b[39m(steps):\n\u001b[0;32m---> 60\u001b[0m     model\u001b[38;5;241m.\u001b[39mstep()\n\u001b[1;32m     61\u001b[0m agent_data \u001b[38;5;241m=\u001b[39m pd\u001b[38;5;241m.\u001b[39mconcat([agent_data, model\u001b[38;5;241m.\u001b[39mdatacollector\u001b[38;5;241m.\u001b[39mget_agent_vars_dataframe()])\n\u001b[1;32m     62\u001b[0m agent_data[\u001b[38;5;124m'\u001b[39m\u001b[38;5;124mRound\u001b[39m\u001b[38;5;124m'\u001b[39m] \u001b[38;5;241m=\u001b[39m agent_data[\u001b[38;5;124m'\u001b[39m\u001b[38;5;124mRound\u001b[39m\u001b[38;5;124m'\u001b[39m]\u001b[38;5;241m.\u001b[39mfillna(\u001b[38;5;28mround\u001b[39m)\n",
      "File \u001b[0;32m~/Desktop/thesis_code/GamesModel.py:245\u001b[0m, in \u001b[0;36mGamesModel.step\u001b[0;34m(self)\u001b[0m\n\u001b[1;32m    243\u001b[0m     \u001b[38;5;28mself\u001b[39m\u001b[38;5;241m.\u001b[39mcurrent_step \u001b[38;5;241m+\u001b[39m\u001b[38;5;241m=\u001b[39m \u001b[38;5;241m1\u001b[39m\n\u001b[1;32m    244\u001b[0m \u001b[38;5;28;01melse\u001b[39;00m:\n\u001b[0;32m--> 245\u001b[0m     \u001b[38;5;28mself\u001b[39m\u001b[38;5;241m.\u001b[39mschedule\u001b[38;5;241m.\u001b[39mstep()\n\u001b[1;32m    246\u001b[0m     \u001b[38;5;28mself\u001b[39m\u001b[38;5;241m.\u001b[39mdatacollector\u001b[38;5;241m.\u001b[39mcollect(\u001b[38;5;28mself\u001b[39m)\n\u001b[1;32m    247\u001b[0m     \u001b[38;5;28mself\u001b[39m\u001b[38;5;241m.\u001b[39mcurrent_step \u001b[38;5;241m+\u001b[39m\u001b[38;5;241m=\u001b[39m \u001b[38;5;241m1\u001b[39m\n",
      "File \u001b[0;32m~/anaconda3/lib/python3.11/site-packages/mesa/time.py:125\u001b[0m, in \u001b[0;36mRandomActivation.step\u001b[0;34m(self)\u001b[0m\n\u001b[1;32m    120\u001b[0m \u001b[38;5;250m\u001b[39m\u001b[38;5;124;03m\"\"\"Executes the step of all agents, one at a time, in\u001b[39;00m\n\u001b[1;32m    121\u001b[0m \u001b[38;5;124;03mrandom order.\u001b[39;00m\n\u001b[1;32m    122\u001b[0m \n\u001b[1;32m    123\u001b[0m \u001b[38;5;124;03m\"\"\"\u001b[39;00m\n\u001b[1;32m    124\u001b[0m \u001b[38;5;28;01mfor\u001b[39;00m agent \u001b[38;5;129;01min\u001b[39;00m \u001b[38;5;28mself\u001b[39m\u001b[38;5;241m.\u001b[39magent_buffer(shuffled\u001b[38;5;241m=\u001b[39m\u001b[38;5;28;01mTrue\u001b[39;00m):\n\u001b[0;32m--> 125\u001b[0m     agent\u001b[38;5;241m.\u001b[39mstep()\n\u001b[1;32m    126\u001b[0m \u001b[38;5;28mself\u001b[39m\u001b[38;5;241m.\u001b[39msteps \u001b[38;5;241m+\u001b[39m\u001b[38;5;241m=\u001b[39m \u001b[38;5;241m1\u001b[39m\n\u001b[1;32m    127\u001b[0m \u001b[38;5;28mself\u001b[39m\u001b[38;5;241m.\u001b[39mtime \u001b[38;5;241m+\u001b[39m\u001b[38;5;241m=\u001b[39m \u001b[38;5;241m1\u001b[39m\n",
      "File \u001b[0;32m~/Desktop/thesis_code/GameAgent.py:308\u001b[0m, in \u001b[0;36mGameAgent.step\u001b[0;34m(self)\u001b[0m\n\u001b[1;32m    305\u001b[0m     \u001b[38;5;28mself\u001b[39m\u001b[38;5;241m.\u001b[39mmodel\u001b[38;5;241m.\u001b[39me_g \u001b[38;5;241m+\u001b[39m\u001b[38;5;241m=\u001b[39m \u001b[38;5;241m1\u001b[39m\n\u001b[1;32m    307\u001b[0m \u001b[38;5;28;01mif\u001b[39;00m \u001b[38;5;28mself\u001b[39m\u001b[38;5;241m.\u001b[39mgames_played \u001b[38;5;241m>\u001b[39m \u001b[38;5;241m5\u001b[39m:\n\u001b[0;32m--> 308\u001b[0m     \u001b[38;5;28mself\u001b[39m\u001b[38;5;241m.\u001b[39mrewire(\u001b[38;5;28mself\u001b[39m\u001b[38;5;241m.\u001b[39malpha, \u001b[38;5;28mself\u001b[39m\u001b[38;5;241m.\u001b[39mbeta, \u001b[38;5;28mself\u001b[39m\u001b[38;5;241m.\u001b[39mrewiring_p)\n",
      "File \u001b[0;32m~/Desktop/thesis_code/GameAgent.py:146\u001b[0m, in \u001b[0;36mGameAgent.rewire\u001b[0;34m(self, alpha, beta, rewiring_p)\u001b[0m\n\u001b[1;32m    142\u001b[0m \u001b[38;5;28;01mdef\u001b[39;00m \u001b[38;5;21mrewire\u001b[39m(\u001b[38;5;28mself\u001b[39m, alpha, beta, rewiring_p):\n\u001b[1;32m    143\u001b[0m     \u001b[38;5;66;03m# Randomly determine if rewiring probability threshold is met\u001b[39;00m\n\u001b[1;32m    144\u001b[0m     \u001b[38;5;28;01mif\u001b[39;00m np\u001b[38;5;241m.\u001b[39mrandom\u001b[38;5;241m.\u001b[39muniform() \u001b[38;5;241m<\u001b[39m rewiring_p:\n\u001b[1;32m    145\u001b[0m         \u001b[38;5;66;03m# Only rewire edge if it can be done without disconnecting the network\u001b[39;00m\n\u001b[0;32m--> 146\u001b[0m         candidates_removal \u001b[38;5;241m=\u001b[39m \u001b[38;5;28mself\u001b[39m\u001b[38;5;241m.\u001b[39mget_valid_neighbors()\n\u001b[1;32m    147\u001b[0m         \u001b[38;5;28;01mif\u001b[39;00m \u001b[38;5;28mlen\u001b[39m(candidates_removal) \u001b[38;5;241m>\u001b[39m \u001b[38;5;241m1\u001b[39m:\n\u001b[1;32m    148\u001b[0m             \u001b[38;5;28mself\u001b[39m\u001b[38;5;241m.\u001b[39mmodel\u001b[38;5;241m.\u001b[39me_n \u001b[38;5;241m+\u001b[39m\u001b[38;5;241m=\u001b[39m \u001b[38;5;241m1\u001b[39m\n",
      "File \u001b[0;32m~/Desktop/thesis_code/GameAgent.py:135\u001b[0m, in \u001b[0;36mGameAgent.get_valid_neighbors\u001b[0;34m(self)\u001b[0m\n\u001b[1;32m    132\u001b[0m \u001b[38;5;66;03m# Iterate through each neighbor\u001b[39;00m\n\u001b[1;32m    133\u001b[0m \u001b[38;5;28;01mfor\u001b[39;00m neighbor \u001b[38;5;129;01min\u001b[39;00m neighbors:\n\u001b[1;32m    134\u001b[0m     \u001b[38;5;66;03m# Make a copy of the graph\u001b[39;00m\n\u001b[0;32m--> 135\u001b[0m     graph_copy \u001b[38;5;241m=\u001b[39m copy\u001b[38;5;241m.\u001b[39mdeepcopy(\u001b[38;5;28mself\u001b[39m\u001b[38;5;241m.\u001b[39mmodel\u001b[38;5;241m.\u001b[39mgraph)\n\u001b[1;32m    136\u001b[0m     graph_copy\u001b[38;5;241m.\u001b[39mremove_edge(node, neighbor)\n\u001b[1;32m    137\u001b[0m     \u001b[38;5;66;03m# Check if removing the connection with 'node' will not disconnect the network\u001b[39;00m\n",
      "File \u001b[0;32m~/anaconda3/lib/python3.11/copy.py:172\u001b[0m, in \u001b[0;36mdeepcopy\u001b[0;34m(x, memo, _nil)\u001b[0m\n\u001b[1;32m    170\u001b[0m                 y \u001b[38;5;241m=\u001b[39m x\n\u001b[1;32m    171\u001b[0m             \u001b[38;5;28;01melse\u001b[39;00m:\n\u001b[0;32m--> 172\u001b[0m                 y \u001b[38;5;241m=\u001b[39m _reconstruct(x, memo, \u001b[38;5;241m*\u001b[39mrv)\n\u001b[1;32m    174\u001b[0m \u001b[38;5;66;03m# If is its own copy, don't memoize.\u001b[39;00m\n\u001b[1;32m    175\u001b[0m \u001b[38;5;28;01mif\u001b[39;00m y \u001b[38;5;129;01mis\u001b[39;00m \u001b[38;5;129;01mnot\u001b[39;00m x:\n",
      "File \u001b[0;32m~/anaconda3/lib/python3.11/copy.py:271\u001b[0m, in \u001b[0;36m_reconstruct\u001b[0;34m(x, memo, func, args, state, listiter, dictiter, deepcopy)\u001b[0m\n\u001b[1;32m    269\u001b[0m \u001b[38;5;28;01mif\u001b[39;00m state \u001b[38;5;129;01mis\u001b[39;00m \u001b[38;5;129;01mnot\u001b[39;00m \u001b[38;5;28;01mNone\u001b[39;00m:\n\u001b[1;32m    270\u001b[0m     \u001b[38;5;28;01mif\u001b[39;00m deep:\n\u001b[0;32m--> 271\u001b[0m         state \u001b[38;5;241m=\u001b[39m deepcopy(state, memo)\n\u001b[1;32m    272\u001b[0m     \u001b[38;5;28;01mif\u001b[39;00m \u001b[38;5;28mhasattr\u001b[39m(y, \u001b[38;5;124m'\u001b[39m\u001b[38;5;124m__setstate__\u001b[39m\u001b[38;5;124m'\u001b[39m):\n\u001b[1;32m    273\u001b[0m         y\u001b[38;5;241m.\u001b[39m__setstate__(state)\n",
      "File \u001b[0;32m~/anaconda3/lib/python3.11/copy.py:146\u001b[0m, in \u001b[0;36mdeepcopy\u001b[0;34m(x, memo, _nil)\u001b[0m\n\u001b[1;32m    144\u001b[0m copier \u001b[38;5;241m=\u001b[39m _deepcopy_dispatch\u001b[38;5;241m.\u001b[39mget(\u001b[38;5;28mcls\u001b[39m)\n\u001b[1;32m    145\u001b[0m \u001b[38;5;28;01mif\u001b[39;00m copier \u001b[38;5;129;01mis\u001b[39;00m \u001b[38;5;129;01mnot\u001b[39;00m \u001b[38;5;28;01mNone\u001b[39;00m:\n\u001b[0;32m--> 146\u001b[0m     y \u001b[38;5;241m=\u001b[39m copier(x, memo)\n\u001b[1;32m    147\u001b[0m \u001b[38;5;28;01melse\u001b[39;00m:\n\u001b[1;32m    148\u001b[0m     \u001b[38;5;28;01mif\u001b[39;00m \u001b[38;5;28missubclass\u001b[39m(\u001b[38;5;28mcls\u001b[39m, \u001b[38;5;28mtype\u001b[39m):\n",
      "File \u001b[0;32m~/anaconda3/lib/python3.11/copy.py:231\u001b[0m, in \u001b[0;36m_deepcopy_dict\u001b[0;34m(x, memo, deepcopy)\u001b[0m\n\u001b[1;32m    229\u001b[0m memo[\u001b[38;5;28mid\u001b[39m(x)] \u001b[38;5;241m=\u001b[39m y\n\u001b[1;32m    230\u001b[0m \u001b[38;5;28;01mfor\u001b[39;00m key, value \u001b[38;5;129;01min\u001b[39;00m x\u001b[38;5;241m.\u001b[39mitems():\n\u001b[0;32m--> 231\u001b[0m     y[deepcopy(key, memo)] \u001b[38;5;241m=\u001b[39m deepcopy(value, memo)\n\u001b[1;32m    232\u001b[0m \u001b[38;5;28;01mreturn\u001b[39;00m y\n",
      "File \u001b[0;32m~/anaconda3/lib/python3.11/copy.py:146\u001b[0m, in \u001b[0;36mdeepcopy\u001b[0;34m(x, memo, _nil)\u001b[0m\n\u001b[1;32m    144\u001b[0m copier \u001b[38;5;241m=\u001b[39m _deepcopy_dispatch\u001b[38;5;241m.\u001b[39mget(\u001b[38;5;28mcls\u001b[39m)\n\u001b[1;32m    145\u001b[0m \u001b[38;5;28;01mif\u001b[39;00m copier \u001b[38;5;129;01mis\u001b[39;00m \u001b[38;5;129;01mnot\u001b[39;00m \u001b[38;5;28;01mNone\u001b[39;00m:\n\u001b[0;32m--> 146\u001b[0m     y \u001b[38;5;241m=\u001b[39m copier(x, memo)\n\u001b[1;32m    147\u001b[0m \u001b[38;5;28;01melse\u001b[39;00m:\n\u001b[1;32m    148\u001b[0m     \u001b[38;5;28;01mif\u001b[39;00m \u001b[38;5;28missubclass\u001b[39m(\u001b[38;5;28mcls\u001b[39m, \u001b[38;5;28mtype\u001b[39m):\n",
      "File \u001b[0;32m~/anaconda3/lib/python3.11/copy.py:231\u001b[0m, in \u001b[0;36m_deepcopy_dict\u001b[0;34m(x, memo, deepcopy)\u001b[0m\n\u001b[1;32m    229\u001b[0m memo[\u001b[38;5;28mid\u001b[39m(x)] \u001b[38;5;241m=\u001b[39m y\n\u001b[1;32m    230\u001b[0m \u001b[38;5;28;01mfor\u001b[39;00m key, value \u001b[38;5;129;01min\u001b[39;00m x\u001b[38;5;241m.\u001b[39mitems():\n\u001b[0;32m--> 231\u001b[0m     y[deepcopy(key, memo)] \u001b[38;5;241m=\u001b[39m deepcopy(value, memo)\n\u001b[1;32m    232\u001b[0m \u001b[38;5;28;01mreturn\u001b[39;00m y\n",
      "File \u001b[0;32m~/anaconda3/lib/python3.11/copy.py:146\u001b[0m, in \u001b[0;36mdeepcopy\u001b[0;34m(x, memo, _nil)\u001b[0m\n\u001b[1;32m    144\u001b[0m copier \u001b[38;5;241m=\u001b[39m _deepcopy_dispatch\u001b[38;5;241m.\u001b[39mget(\u001b[38;5;28mcls\u001b[39m)\n\u001b[1;32m    145\u001b[0m \u001b[38;5;28;01mif\u001b[39;00m copier \u001b[38;5;129;01mis\u001b[39;00m \u001b[38;5;129;01mnot\u001b[39;00m \u001b[38;5;28;01mNone\u001b[39;00m:\n\u001b[0;32m--> 146\u001b[0m     y \u001b[38;5;241m=\u001b[39m copier(x, memo)\n\u001b[1;32m    147\u001b[0m \u001b[38;5;28;01melse\u001b[39;00m:\n\u001b[1;32m    148\u001b[0m     \u001b[38;5;28;01mif\u001b[39;00m \u001b[38;5;28missubclass\u001b[39m(\u001b[38;5;28mcls\u001b[39m, \u001b[38;5;28mtype\u001b[39m):\n",
      "File \u001b[0;32m~/anaconda3/lib/python3.11/copy.py:231\u001b[0m, in \u001b[0;36m_deepcopy_dict\u001b[0;34m(x, memo, deepcopy)\u001b[0m\n\u001b[1;32m    229\u001b[0m memo[\u001b[38;5;28mid\u001b[39m(x)] \u001b[38;5;241m=\u001b[39m y\n\u001b[1;32m    230\u001b[0m \u001b[38;5;28;01mfor\u001b[39;00m key, value \u001b[38;5;129;01min\u001b[39;00m x\u001b[38;5;241m.\u001b[39mitems():\n\u001b[0;32m--> 231\u001b[0m     y[deepcopy(key, memo)] \u001b[38;5;241m=\u001b[39m deepcopy(value, memo)\n\u001b[1;32m    232\u001b[0m \u001b[38;5;28;01mreturn\u001b[39;00m y\n",
      "File \u001b[0;32m~/anaconda3/lib/python3.11/copy.py:146\u001b[0m, in \u001b[0;36mdeepcopy\u001b[0;34m(x, memo, _nil)\u001b[0m\n\u001b[1;32m    144\u001b[0m copier \u001b[38;5;241m=\u001b[39m _deepcopy_dispatch\u001b[38;5;241m.\u001b[39mget(\u001b[38;5;28mcls\u001b[39m)\n\u001b[1;32m    145\u001b[0m \u001b[38;5;28;01mif\u001b[39;00m copier \u001b[38;5;129;01mis\u001b[39;00m \u001b[38;5;129;01mnot\u001b[39;00m \u001b[38;5;28;01mNone\u001b[39;00m:\n\u001b[0;32m--> 146\u001b[0m     y \u001b[38;5;241m=\u001b[39m copier(x, memo)\n\u001b[1;32m    147\u001b[0m \u001b[38;5;28;01melse\u001b[39;00m:\n\u001b[1;32m    148\u001b[0m     \u001b[38;5;28;01mif\u001b[39;00m \u001b[38;5;28missubclass\u001b[39m(\u001b[38;5;28mcls\u001b[39m, \u001b[38;5;28mtype\u001b[39m):\n",
      "File \u001b[0;32m~/anaconda3/lib/python3.11/copy.py:229\u001b[0m, in \u001b[0;36m_deepcopy_dict\u001b[0;34m(x, memo, deepcopy)\u001b[0m\n\u001b[1;32m    227\u001b[0m \u001b[38;5;28;01mdef\u001b[39;00m \u001b[38;5;21m_deepcopy_dict\u001b[39m(x, memo, deepcopy\u001b[38;5;241m=\u001b[39mdeepcopy):\n\u001b[1;32m    228\u001b[0m     y \u001b[38;5;241m=\u001b[39m {}\n\u001b[0;32m--> 229\u001b[0m     memo[\u001b[38;5;28mid\u001b[39m(x)] \u001b[38;5;241m=\u001b[39m y\n\u001b[1;32m    230\u001b[0m     \u001b[38;5;28;01mfor\u001b[39;00m key, value \u001b[38;5;129;01min\u001b[39;00m x\u001b[38;5;241m.\u001b[39mitems():\n\u001b[1;32m    231\u001b[0m         y[deepcopy(key, memo)] \u001b[38;5;241m=\u001b[39m deepcopy(value, memo)\n",
      "\u001b[0;31mKeyboardInterrupt\u001b[0m: "
     ]
    }
   ],
   "source": [
    "repetitions = 10\n",
    "networks_list = [(\"HK\", 6, 0.3), (\"ER\", 0.03, None), (\"WS\", 6, 0.2)]\n",
    "os.makedirs(\"Data/network_convergence_norm\", exist_ok=True)\n",
    "for _ in range(repetitions):\n",
    "    for network_type in networks_list:\n",
    "        parameters = {\n",
    "            \"N\": 200,\n",
    "            \"rewiring_p\": 1,\n",
    "            \"alpha\": 0.5,\n",
    "            \"rat\": 0,\n",
    "            \"network\": network_type,\n",
    "            \"rounds\": 1,\n",
    "            \"steps\": 200,\n",
    "            \"alwaysOwn\": False,\n",
    "            \"alwaysSafe\": False,\n",
    "            \"UV\": (True, None, None, False),\n",
    "            \"risk_distribution\": \"default\",\n",
    "            \"utility_function\": \"prospect\",\n",
    "            \"normalizeGames\": True,\n",
    "            \"risk\": 0\n",
    "        }\n",
    "\n",
    "        timestamp = datetime.now().strftime(\"%Y-%m-%d_%H-%M\")\n",
    "        model_data, _ = Simulate.simulate(**parameters)\n",
    "        network_label = network_type[0]\n",
    "        model_data.to_csv(f\"Data/network_convergence_norm/model_data_{network_label}_{timestamp}.csv\", index=False)"
   ]
  },
  {
   "cell_type": "markdown",
   "id": "cf024cc8",
   "metadata": {},
   "source": [
    "## rewiring p"
   ]
  },
  {
   "cell_type": "code",
   "execution_count": 1,
   "id": "d9b042d5",
   "metadata": {},
   "outputs": [],
   "source": [
    "import re\n",
    "import os\n",
    "import ast\n",
    "import math\n",
    "import glob\n",
    "import pandas as pd\n",
    "import numpy as np\n",
    "import matplotlib.pyplot as plt\n",
    "import Simulate\n",
    "from datetime import datetime"
   ]
  },
  {
   "cell_type": "code",
   "execution_count": null,
   "id": "0d8aaac8",
   "metadata": {},
   "outputs": [
    {
     "name": "stdout",
     "output_type": "stream",
     "text": [
      "Round: 0\n"
     ]
    }
   ],
   "source": [
    "repetitions = 10\n",
    "rewiring_p_list = np.linspace(0,1,11)\n",
    "for _ in range(repetitions):\n",
    "    for rewiring_p in rewiring_p_list:\n",
    "        parameters = {\n",
    "            \"N\": 200,\n",
    "            \"rewiring_p\": rewiring_p,\n",
    "            \"alpha\": 0.5,\n",
    "            \"rat\": 0,\n",
    "            \"rounds\": 1,\n",
    "            \"steps\": 200,\n",
    "            \"alwaysOwn\": False,\n",
    "            \"alwaysSafe\": False,\n",
    "            \"UV\": (True, None, None, False),\n",
    "            \"risk_distribution\": \"default\",\n",
    "            \"utility_function\": \"prospect\",\n",
    "            \"normalizeGames\": True,\n",
    "            \"risk\": 0\n",
    "        }\n",
    "\n",
    "        timestamp = datetime.now().strftime(\"%H-%M\")\n",
    "        _, agent_data = Simulate.simulate(**parameters)\n",
    "        os.makedirs(\"Data/rewiring\", exist_ok=True)\n",
    "        agent_data.to_csv(f\"Data/rewiring/agent_data_rewire_{rewiring_p}_{timestamp}.csv\", index=False)"
   ]
  },
  {
   "cell_type": "markdown",
   "id": "563f41c3",
   "metadata": {},
   "source": [
    "## Homophily"
   ]
  },
  {
   "cell_type": "code",
   "execution_count": null,
   "id": "4c40b850",
   "metadata": {},
   "outputs": [
    {
     "name": "stdout",
     "output_type": "stream",
     "text": [
      "Round: 0\n",
      "Round: 0\n",
      "Round: 0\n",
      "Round: 0\n",
      "Round: 0\n"
     ]
    }
   ],
   "source": [
    "repetitions = 10\n",
    "alpha_list = np.linspace(0,1,11)\n",
    "for a in alpha_list:\n",
    "    for _ in range(repetitions):\n",
    "        parameters = {\n",
    "            \"N\": 200,\n",
    "            \"rewiring_p\": 1,\n",
    "            \"alpha\": a,\n",
    "            \"rat\": 0,\n",
    "            \"rounds\": 1,\n",
    "            \"steps\": 200,\n",
    "            \"alwaysOwn\": False,\n",
    "            \"alwaysSafe\": False,\n",
    "            \"UV\": (True, None, None, False),\n",
    "            \"risk_distribution\": \"default\",\n",
    "            \"utility_function\": \"prospect\",\n",
    "            \"normalizeGames\": True,\n",
    "            \"dependence\": 1,\n",
    "            \"risk\": 0\n",
    "        }\n",
    "\n",
    "        timestamp = datetime.now().strftime(\"%Y-%m-%d_%H-%M\")\n",
    "        model_data, agent_data = Simulate.simulate(**parameters)\n",
    "        os.makedirs(\"Data/homophily_norm\", exist_ok=True)\n",
    "        model_data.to_csv(f\"Data/homophily_norm/model_data_{a:.1f}_{timestamp}.csv\", index=False)\n",
    "        agent_data.to_csv(f\"Data/homophily_norm/agent_data_{a:.1f}_{timestamp}.csv\", index=False)"
   ]
  },
  {
   "cell_type": "markdown",
   "id": "faacbd35",
   "metadata": {},
   "source": [
    "## Assortativity"
   ]
  },
  {
   "cell_type": "code",
   "execution_count": 1,
   "id": "62014cba",
   "metadata": {},
   "outputs": [],
   "source": [
    "import os\n",
    "import re\n",
    "import glob\n",
    "import pandas as pd\n",
    "import numpy as np\n",
    "import matplotlib.pyplot as plt\n",
    "import Simulate\n",
    "from datetime import datetime\n",
    "from scipy.stats import pearsonr"
   ]
  },
  {
   "cell_type": "code",
   "execution_count": 2,
   "id": "3a84afc1",
   "metadata": {},
   "outputs": [
    {
     "name": "stdout",
     "output_type": "stream",
     "text": [
      "Round: 0\n",
      "Round: 0\n",
      "Round: 0\n",
      "Round: 0\n",
      "Round: 0\n",
      "Round: 0\n",
      "Round: 0\n",
      "Round: 0\n",
      "Round: 0\n",
      "Round: 0\n"
     ]
    }
   ],
   "source": [
    "repetitions = 10\n",
    "os.makedirs(\"Data/assortativity\", exist_ok=True)\n",
    "for _ in range(repetitions):\n",
    "    parameters = {\n",
    "                \"N\": 200,\n",
    "                \"rewiring_p\": 1,\n",
    "                \"alpha\": 0.5,\n",
    "                \"rat\": 0,\n",
    "                \"rounds\": 1,\n",
    "                \"steps\": 200,\n",
    "                \"alwaysOwn\": False,\n",
    "                \"alwaysSafe\": False,\n",
    "                \"UV\": (True, None, None, False),\n",
    "                \"risk_distribution\": \"default\",\n",
    "                \"utility_function\": \"prospect\",\n",
    "                \"normalizeGames\": False,\n",
    "                \"dependence\": 1,\n",
    "                \"risk\": 0\n",
    "            }\n",
    "\n",
    "    timestamp = datetime.now().strftime(\"%Y-%m-%d_%H-%M\")\n",
    "    model_data, agent_data = Simulate.simulate(**parameters)\n",
    "    model_data.to_csv(f\"Data/assortativity/model_data_{timestamp}.csv\", index=False)\n",
    "    agent_data.to_csv(f\"Data/assortativity/agent_data_{timestamp}.csv\", index=False)"
   ]
  },
  {
   "cell_type": "code",
   "execution_count": null,
   "id": "6bedb5e0",
   "metadata": {},
   "outputs": [],
   "source": [
    "repetitions = 10\n",
    "os.makedirs(\"Data/assortativity_norm\", exist_ok=True)\n",
    "for _ in range(repetitions):\n",
    "    parameters = {\n",
    "                \"N\": 200,\n",
    "                \"rewiring_p\": 1,\n",
    "                \"alpha\": 0.5,\n",
    "                \"rat\": 0,\n",
    "                \"rounds\": 1,\n",
    "                \"steps\": 200,\n",
    "                \"alwaysOwn\": False,\n",
    "                \"alwaysSafe\": False,\n",
    "                \"UV\": (True, None, None, False),\n",
    "                \"risk_distribution\": \"default\",\n",
    "                \"utility_function\": \"prospect\",\n",
    "                \"normalizeGames\": True,\n",
    "                \"dependence\": 1,\n",
    "                \"risk\": 0\n",
    "            }\n",
    "\n",
    "    timestamp = datetime.now().strftime(\"%Y-%m-%d_%H-%M\")\n",
    "    model_data, agent_data = Simulate.simulate(**parameters)\n",
    "    model_data.to_csv(f\"Data/assortativity_norm/model_data_{timestamp}.csv\", index=False)\n",
    "    agent_data.to_csv(f\"Data/assortativity_norm/agent_data_{timestamp}.csv\", index=False)"
   ]
  },
  {
   "cell_type": "markdown",
   "id": "df64e644",
   "metadata": {},
   "source": [
    "## eta & lambda"
   ]
  },
  {
   "cell_type": "code",
   "execution_count": null,
   "id": "3033cb83",
   "metadata": {},
   "outputs": [
    {
     "name": "stdout",
     "output_type": "stream",
     "text": [
      "Round: 0\n",
      "Round: 0\n",
      "Round: 0\n"
     ]
    },
    {
     "ename": "KeyboardInterrupt",
     "evalue": "",
     "output_type": "error",
     "traceback": [
      "\u001b[0;31m---------------------------------------------------------------------------\u001b[0m",
      "\u001b[0;31mKeyboardInterrupt\u001b[0m                         Traceback (most recent call last)",
      "Cell \u001b[0;32mIn[2], line 23\u001b[0m\n\u001b[1;32m      6\u001b[0m parameters \u001b[38;5;241m=\u001b[39m {\n\u001b[1;32m      7\u001b[0m     \u001b[38;5;124m\"\u001b[39m\u001b[38;5;124mN\u001b[39m\u001b[38;5;124m\"\u001b[39m: \u001b[38;5;241m200\u001b[39m,\n\u001b[1;32m      8\u001b[0m     \u001b[38;5;124m\"\u001b[39m\u001b[38;5;124mrewiring_p\u001b[39m\u001b[38;5;124m\"\u001b[39m: \u001b[38;5;241m1\u001b[39m,\n\u001b[0;32m   (...)\u001b[0m\n\u001b[1;32m     19\u001b[0m     \u001b[38;5;124m\"\u001b[39m\u001b[38;5;124mrisk\u001b[39m\u001b[38;5;124m\"\u001b[39m: eta\n\u001b[1;32m     20\u001b[0m }\n\u001b[1;32m     22\u001b[0m timestamp \u001b[38;5;241m=\u001b[39m datetime\u001b[38;5;241m.\u001b[39mnow()\u001b[38;5;241m.\u001b[39mstrftime(\u001b[38;5;124m\"\u001b[39m\u001b[38;5;124m%\u001b[39m\u001b[38;5;124mY-\u001b[39m\u001b[38;5;124m%\u001b[39m\u001b[38;5;124mm-\u001b[39m\u001b[38;5;132;01m%d\u001b[39;00m\u001b[38;5;124m_\u001b[39m\u001b[38;5;124m%\u001b[39m\u001b[38;5;124mH-\u001b[39m\u001b[38;5;124m%\u001b[39m\u001b[38;5;124mM\u001b[39m\u001b[38;5;124m\"\u001b[39m)\n\u001b[0;32m---> 23\u001b[0m model_data, agent_data \u001b[38;5;241m=\u001b[39m Simulate\u001b[38;5;241m.\u001b[39msimulate(\u001b[38;5;241m*\u001b[39m\u001b[38;5;241m*\u001b[39mparameters)\n\u001b[1;32m     24\u001b[0m os\u001b[38;5;241m.\u001b[39mmakedirs(\u001b[38;5;124m\"\u001b[39m\u001b[38;5;124mData/property_norm\u001b[39m\u001b[38;5;124m\"\u001b[39m, exist_ok\u001b[38;5;241m=\u001b[39m\u001b[38;5;28;01mTrue\u001b[39;00m)\n\u001b[1;32m     25\u001b[0m \u001b[38;5;66;03m# model_data.to_csv(f\"Data/property_norm/model_data_{eta:.1f}_{lam:.1f}_{timestamp}.csv\", index=False)\u001b[39;00m\n",
      "File \u001b[0;32m~/Desktop/thesis_code/Simulate.py:62\u001b[0m, in \u001b[0;36msimulate\u001b[0;34m(N, rewiring_p, alpha, rat, network, rounds, steps, netRat, alwaysOwn, alwaysSafe, UV, risk_distribution, utility_function, normalizeGames, dependence, dependence_game, risk, mutation_rate, null_model, fix_eta, fix_rationality, period, drift)\u001b[0m\n\u001b[1;32m     60\u001b[0m \u001b[38;5;66;03m# Step through the simulation.\u001b[39;00m\n\u001b[1;32m     61\u001b[0m \u001b[38;5;28;01mfor\u001b[39;00m _ \u001b[38;5;129;01min\u001b[39;00m \u001b[38;5;28mrange\u001b[39m(steps):\n\u001b[0;32m---> 62\u001b[0m     model\u001b[38;5;241m.\u001b[39mstep()\n\u001b[1;32m     63\u001b[0m agent_data \u001b[38;5;241m=\u001b[39m pd\u001b[38;5;241m.\u001b[39mconcat([agent_data, model\u001b[38;5;241m.\u001b[39mdatacollector\u001b[38;5;241m.\u001b[39mget_agent_vars_dataframe()])\n\u001b[1;32m     64\u001b[0m agent_data[\u001b[38;5;124m'\u001b[39m\u001b[38;5;124mRound\u001b[39m\u001b[38;5;124m'\u001b[39m] \u001b[38;5;241m=\u001b[39m agent_data[\u001b[38;5;124m'\u001b[39m\u001b[38;5;124mRound\u001b[39m\u001b[38;5;124m'\u001b[39m]\u001b[38;5;241m.\u001b[39mfillna(\u001b[38;5;28mround\u001b[39m)\n",
      "File \u001b[0;32m~/Desktop/thesis_code/GamesModel.py:248\u001b[0m, in \u001b[0;36mGamesModel.step\u001b[0;34m(self)\u001b[0m\n\u001b[1;32m    246\u001b[0m     \u001b[38;5;28mself\u001b[39m\u001b[38;5;241m.\u001b[39mcurrent_step \u001b[38;5;241m+\u001b[39m\u001b[38;5;241m=\u001b[39m \u001b[38;5;241m1\u001b[39m\n\u001b[1;32m    247\u001b[0m \u001b[38;5;28;01melse\u001b[39;00m:\n\u001b[0;32m--> 248\u001b[0m     \u001b[38;5;28mself\u001b[39m\u001b[38;5;241m.\u001b[39mschedule\u001b[38;5;241m.\u001b[39mstep()\n\u001b[1;32m    249\u001b[0m     \u001b[38;5;28mself\u001b[39m\u001b[38;5;241m.\u001b[39mdatacollector\u001b[38;5;241m.\u001b[39mcollect(\u001b[38;5;28mself\u001b[39m)\n\u001b[1;32m    250\u001b[0m     \u001b[38;5;28mself\u001b[39m\u001b[38;5;241m.\u001b[39mcurrent_step \u001b[38;5;241m+\u001b[39m\u001b[38;5;241m=\u001b[39m \u001b[38;5;241m1\u001b[39m\n",
      "File \u001b[0;32m~/anaconda3/lib/python3.11/site-packages/mesa/time.py:125\u001b[0m, in \u001b[0;36mRandomActivation.step\u001b[0;34m(self)\u001b[0m\n\u001b[1;32m    120\u001b[0m \u001b[38;5;250m\u001b[39m\u001b[38;5;124;03m\"\"\"Executes the step of all agents, one at a time, in\u001b[39;00m\n\u001b[1;32m    121\u001b[0m \u001b[38;5;124;03mrandom order.\u001b[39;00m\n\u001b[1;32m    122\u001b[0m \n\u001b[1;32m    123\u001b[0m \u001b[38;5;124;03m\"\"\"\u001b[39;00m\n\u001b[1;32m    124\u001b[0m \u001b[38;5;28;01mfor\u001b[39;00m agent \u001b[38;5;129;01min\u001b[39;00m \u001b[38;5;28mself\u001b[39m\u001b[38;5;241m.\u001b[39magent_buffer(shuffled\u001b[38;5;241m=\u001b[39m\u001b[38;5;28;01mTrue\u001b[39;00m):\n\u001b[0;32m--> 125\u001b[0m     agent\u001b[38;5;241m.\u001b[39mstep()\n\u001b[1;32m    126\u001b[0m \u001b[38;5;28mself\u001b[39m\u001b[38;5;241m.\u001b[39msteps \u001b[38;5;241m+\u001b[39m\u001b[38;5;241m=\u001b[39m \u001b[38;5;241m1\u001b[39m\n\u001b[1;32m    127\u001b[0m \u001b[38;5;28mself\u001b[39m\u001b[38;5;241m.\u001b[39mtime \u001b[38;5;241m+\u001b[39m\u001b[38;5;241m=\u001b[39m \u001b[38;5;241m1\u001b[39m\n",
      "File \u001b[0;32m~/Desktop/thesis_code/GameAgent.py:331\u001b[0m, in \u001b[0;36mGameAgent.step\u001b[0;34m(self)\u001b[0m\n\u001b[1;32m    328\u001b[0m     \u001b[38;5;28mself\u001b[39m\u001b[38;5;241m.\u001b[39mmodel\u001b[38;5;241m.\u001b[39me_g \u001b[38;5;241m+\u001b[39m\u001b[38;5;241m=\u001b[39m \u001b[38;5;241m1\u001b[39m\n\u001b[1;32m    330\u001b[0m \u001b[38;5;28;01mif\u001b[39;00m \u001b[38;5;28mself\u001b[39m\u001b[38;5;241m.\u001b[39mgames_played \u001b[38;5;241m>\u001b[39m \u001b[38;5;241m5\u001b[39m:\n\u001b[0;32m--> 331\u001b[0m     \u001b[38;5;28mself\u001b[39m\u001b[38;5;241m.\u001b[39mrewire(\u001b[38;5;28mself\u001b[39m\u001b[38;5;241m.\u001b[39malpha, \u001b[38;5;28mself\u001b[39m\u001b[38;5;241m.\u001b[39mbeta, \u001b[38;5;28mself\u001b[39m\u001b[38;5;241m.\u001b[39mrewiring_p)\n",
      "File \u001b[0;32m~/Desktop/thesis_code/GameAgent.py:149\u001b[0m, in \u001b[0;36mGameAgent.rewire\u001b[0;34m(self, alpha, beta, rewiring_p)\u001b[0m\n\u001b[1;32m    145\u001b[0m \u001b[38;5;28;01mdef\u001b[39;00m \u001b[38;5;21mrewire\u001b[39m(\u001b[38;5;28mself\u001b[39m, alpha, beta, rewiring_p):\n\u001b[1;32m    146\u001b[0m     \u001b[38;5;66;03m# Randomly determine if rewiring probability threshold is met\u001b[39;00m\n\u001b[1;32m    147\u001b[0m     \u001b[38;5;28;01mif\u001b[39;00m np\u001b[38;5;241m.\u001b[39mrandom\u001b[38;5;241m.\u001b[39muniform() \u001b[38;5;241m<\u001b[39m rewiring_p:\n\u001b[1;32m    148\u001b[0m         \u001b[38;5;66;03m# Only rewire edge if it can be done without disconnecting the network\u001b[39;00m\n\u001b[0;32m--> 149\u001b[0m         candidates_removal \u001b[38;5;241m=\u001b[39m \u001b[38;5;28mself\u001b[39m\u001b[38;5;241m.\u001b[39mget_valid_neighbors()\n\u001b[1;32m    150\u001b[0m         \u001b[38;5;28;01mif\u001b[39;00m \u001b[38;5;28mlen\u001b[39m(candidates_removal) \u001b[38;5;241m>\u001b[39m \u001b[38;5;241m1\u001b[39m:\n\u001b[1;32m    151\u001b[0m             \u001b[38;5;28mself\u001b[39m\u001b[38;5;241m.\u001b[39mmodel\u001b[38;5;241m.\u001b[39me_n \u001b[38;5;241m+\u001b[39m\u001b[38;5;241m=\u001b[39m \u001b[38;5;241m1\u001b[39m\n",
      "File \u001b[0;32m~/Desktop/thesis_code/GameAgent.py:138\u001b[0m, in \u001b[0;36mGameAgent.get_valid_neighbors\u001b[0;34m(self)\u001b[0m\n\u001b[1;32m    135\u001b[0m \u001b[38;5;66;03m# Iterate through each neighbor\u001b[39;00m\n\u001b[1;32m    136\u001b[0m \u001b[38;5;28;01mfor\u001b[39;00m neighbor \u001b[38;5;129;01min\u001b[39;00m neighbors:\n\u001b[1;32m    137\u001b[0m     \u001b[38;5;66;03m# Make a copy of the graph\u001b[39;00m\n\u001b[0;32m--> 138\u001b[0m     graph_copy \u001b[38;5;241m=\u001b[39m copy\u001b[38;5;241m.\u001b[39mdeepcopy(\u001b[38;5;28mself\u001b[39m\u001b[38;5;241m.\u001b[39mmodel\u001b[38;5;241m.\u001b[39mgraph)\n\u001b[1;32m    139\u001b[0m     graph_copy\u001b[38;5;241m.\u001b[39mremove_edge(node, neighbor)\n\u001b[1;32m    140\u001b[0m     \u001b[38;5;66;03m# Check if removing the connection with 'node' will not disconnect the network\u001b[39;00m\n",
      "File \u001b[0;32m~/anaconda3/lib/python3.11/copy.py:172\u001b[0m, in \u001b[0;36mdeepcopy\u001b[0;34m(x, memo, _nil)\u001b[0m\n\u001b[1;32m    170\u001b[0m                 y \u001b[38;5;241m=\u001b[39m x\n\u001b[1;32m    171\u001b[0m             \u001b[38;5;28;01melse\u001b[39;00m:\n\u001b[0;32m--> 172\u001b[0m                 y \u001b[38;5;241m=\u001b[39m _reconstruct(x, memo, \u001b[38;5;241m*\u001b[39mrv)\n\u001b[1;32m    174\u001b[0m \u001b[38;5;66;03m# If is its own copy, don't memoize.\u001b[39;00m\n\u001b[1;32m    175\u001b[0m \u001b[38;5;28;01mif\u001b[39;00m y \u001b[38;5;129;01mis\u001b[39;00m \u001b[38;5;129;01mnot\u001b[39;00m x:\n",
      "File \u001b[0;32m~/anaconda3/lib/python3.11/copy.py:271\u001b[0m, in \u001b[0;36m_reconstruct\u001b[0;34m(x, memo, func, args, state, listiter, dictiter, deepcopy)\u001b[0m\n\u001b[1;32m    269\u001b[0m \u001b[38;5;28;01mif\u001b[39;00m state \u001b[38;5;129;01mis\u001b[39;00m \u001b[38;5;129;01mnot\u001b[39;00m \u001b[38;5;28;01mNone\u001b[39;00m:\n\u001b[1;32m    270\u001b[0m     \u001b[38;5;28;01mif\u001b[39;00m deep:\n\u001b[0;32m--> 271\u001b[0m         state \u001b[38;5;241m=\u001b[39m deepcopy(state, memo)\n\u001b[1;32m    272\u001b[0m     \u001b[38;5;28;01mif\u001b[39;00m \u001b[38;5;28mhasattr\u001b[39m(y, \u001b[38;5;124m'\u001b[39m\u001b[38;5;124m__setstate__\u001b[39m\u001b[38;5;124m'\u001b[39m):\n\u001b[1;32m    273\u001b[0m         y\u001b[38;5;241m.\u001b[39m__setstate__(state)\n",
      "File \u001b[0;32m~/anaconda3/lib/python3.11/copy.py:146\u001b[0m, in \u001b[0;36mdeepcopy\u001b[0;34m(x, memo, _nil)\u001b[0m\n\u001b[1;32m    144\u001b[0m copier \u001b[38;5;241m=\u001b[39m _deepcopy_dispatch\u001b[38;5;241m.\u001b[39mget(\u001b[38;5;28mcls\u001b[39m)\n\u001b[1;32m    145\u001b[0m \u001b[38;5;28;01mif\u001b[39;00m copier \u001b[38;5;129;01mis\u001b[39;00m \u001b[38;5;129;01mnot\u001b[39;00m \u001b[38;5;28;01mNone\u001b[39;00m:\n\u001b[0;32m--> 146\u001b[0m     y \u001b[38;5;241m=\u001b[39m copier(x, memo)\n\u001b[1;32m    147\u001b[0m \u001b[38;5;28;01melse\u001b[39;00m:\n\u001b[1;32m    148\u001b[0m     \u001b[38;5;28;01mif\u001b[39;00m \u001b[38;5;28missubclass\u001b[39m(\u001b[38;5;28mcls\u001b[39m, \u001b[38;5;28mtype\u001b[39m):\n",
      "File \u001b[0;32m~/anaconda3/lib/python3.11/copy.py:231\u001b[0m, in \u001b[0;36m_deepcopy_dict\u001b[0;34m(x, memo, deepcopy)\u001b[0m\n\u001b[1;32m    229\u001b[0m memo[\u001b[38;5;28mid\u001b[39m(x)] \u001b[38;5;241m=\u001b[39m y\n\u001b[1;32m    230\u001b[0m \u001b[38;5;28;01mfor\u001b[39;00m key, value \u001b[38;5;129;01min\u001b[39;00m x\u001b[38;5;241m.\u001b[39mitems():\n\u001b[0;32m--> 231\u001b[0m     y[deepcopy(key, memo)] \u001b[38;5;241m=\u001b[39m deepcopy(value, memo)\n\u001b[1;32m    232\u001b[0m \u001b[38;5;28;01mreturn\u001b[39;00m y\n",
      "File \u001b[0;32m~/anaconda3/lib/python3.11/copy.py:146\u001b[0m, in \u001b[0;36mdeepcopy\u001b[0;34m(x, memo, _nil)\u001b[0m\n\u001b[1;32m    144\u001b[0m copier \u001b[38;5;241m=\u001b[39m _deepcopy_dispatch\u001b[38;5;241m.\u001b[39mget(\u001b[38;5;28mcls\u001b[39m)\n\u001b[1;32m    145\u001b[0m \u001b[38;5;28;01mif\u001b[39;00m copier \u001b[38;5;129;01mis\u001b[39;00m \u001b[38;5;129;01mnot\u001b[39;00m \u001b[38;5;28;01mNone\u001b[39;00m:\n\u001b[0;32m--> 146\u001b[0m     y \u001b[38;5;241m=\u001b[39m copier(x, memo)\n\u001b[1;32m    147\u001b[0m \u001b[38;5;28;01melse\u001b[39;00m:\n\u001b[1;32m    148\u001b[0m     \u001b[38;5;28;01mif\u001b[39;00m \u001b[38;5;28missubclass\u001b[39m(\u001b[38;5;28mcls\u001b[39m, \u001b[38;5;28mtype\u001b[39m):\n",
      "File \u001b[0;32m~/anaconda3/lib/python3.11/copy.py:231\u001b[0m, in \u001b[0;36m_deepcopy_dict\u001b[0;34m(x, memo, deepcopy)\u001b[0m\n\u001b[1;32m    229\u001b[0m memo[\u001b[38;5;28mid\u001b[39m(x)] \u001b[38;5;241m=\u001b[39m y\n\u001b[1;32m    230\u001b[0m \u001b[38;5;28;01mfor\u001b[39;00m key, value \u001b[38;5;129;01min\u001b[39;00m x\u001b[38;5;241m.\u001b[39mitems():\n\u001b[0;32m--> 231\u001b[0m     y[deepcopy(key, memo)] \u001b[38;5;241m=\u001b[39m deepcopy(value, memo)\n\u001b[1;32m    232\u001b[0m \u001b[38;5;28;01mreturn\u001b[39;00m y\n",
      "File \u001b[0;32m~/anaconda3/lib/python3.11/copy.py:146\u001b[0m, in \u001b[0;36mdeepcopy\u001b[0;34m(x, memo, _nil)\u001b[0m\n\u001b[1;32m    144\u001b[0m copier \u001b[38;5;241m=\u001b[39m _deepcopy_dispatch\u001b[38;5;241m.\u001b[39mget(\u001b[38;5;28mcls\u001b[39m)\n\u001b[1;32m    145\u001b[0m \u001b[38;5;28;01mif\u001b[39;00m copier \u001b[38;5;129;01mis\u001b[39;00m \u001b[38;5;129;01mnot\u001b[39;00m \u001b[38;5;28;01mNone\u001b[39;00m:\n\u001b[0;32m--> 146\u001b[0m     y \u001b[38;5;241m=\u001b[39m copier(x, memo)\n\u001b[1;32m    147\u001b[0m \u001b[38;5;28;01melse\u001b[39;00m:\n\u001b[1;32m    148\u001b[0m     \u001b[38;5;28;01mif\u001b[39;00m \u001b[38;5;28missubclass\u001b[39m(\u001b[38;5;28mcls\u001b[39m, \u001b[38;5;28mtype\u001b[39m):\n",
      "File \u001b[0;32m~/anaconda3/lib/python3.11/copy.py:230\u001b[0m, in \u001b[0;36m_deepcopy_dict\u001b[0;34m(x, memo, deepcopy)\u001b[0m\n\u001b[1;32m    228\u001b[0m y \u001b[38;5;241m=\u001b[39m {}\n\u001b[1;32m    229\u001b[0m memo[\u001b[38;5;28mid\u001b[39m(x)] \u001b[38;5;241m=\u001b[39m y\n\u001b[0;32m--> 230\u001b[0m \u001b[38;5;28;01mfor\u001b[39;00m key, value \u001b[38;5;129;01min\u001b[39;00m x\u001b[38;5;241m.\u001b[39mitems():\n\u001b[1;32m    231\u001b[0m     y[deepcopy(key, memo)] \u001b[38;5;241m=\u001b[39m deepcopy(value, memo)\n\u001b[1;32m    232\u001b[0m \u001b[38;5;28;01mreturn\u001b[39;00m y\n",
      "\u001b[0;31mKeyboardInterrupt\u001b[0m: "
     ]
    }
   ],
   "source": [
    "eta_list = np.linspace(0,2,9)\n",
    "lambda_list = np.linspace(0,2,9)\n",
    "for _ in range(10):\n",
    "    for eta in eta_list:\n",
    "        for lam in lambda_list:\n",
    "            parameters = {\n",
    "                \"N\": 200,\n",
    "                \"rewiring_p\": 1,\n",
    "                \"alpha\": 0.5,\n",
    "                \"rat\": lam,\n",
    "                \"rounds\": 1,\n",
    "                \"steps\": 200,\n",
    "                \"alwaysOwn\": False,\n",
    "                \"alwaysSafe\": False,\n",
    "                \"UV\": (True, None, None, False),\n",
    "                \"risk_distribution\": \"default\",\n",
    "                \"utility_function\": \"prospect\",\n",
    "                \"normalizeGames\": True,\n",
    "                \"risk\": eta\n",
    "            }\n",
    "\n",
    "            timestamp = datetime.now().strftime(\"%Y-%m-%d_%H-%M\")\n",
    "            model_data, agent_data = Simulate.simulate(**parameters)\n",
    "            os.makedirs(\"Data/property_norm\", exist_ok=True)\n",
    "            # model_data.to_csv(f\"Data/property_norm/model_data_{eta:.1f}_{lam:.1f}_{timestamp}.csv\", index=False)\n",
    "            agent_data.to_csv(f\"Data/property_norm/agent_data_{eta:.1f}_{lam:.1f}_{timestamp}.csv\", index=False)"
   ]
  },
  {
   "cell_type": "markdown",
   "id": "e1b417ba",
   "metadata": {},
   "source": [
    "## local maxima"
   ]
  },
  {
   "cell_type": "code",
   "execution_count": null,
   "id": "cedea609",
   "metadata": {},
   "outputs": [],
   "source": [
    "import os\n",
    "import numpy as np\n",
    "import Simulate\n",
    "from datetime import datetime"
   ]
  },
  {
   "cell_type": "code",
   "execution_count": null,
   "id": "4e43fa54",
   "metadata": {},
   "outputs": [
    {
     "name": "stdout",
     "output_type": "stream",
     "text": [
      "Round: 0\n",
      "Round: 0\n",
      "Round: 0\n",
      "Round: 0\n",
      "Round: 0\n",
      "Round: 0\n",
      "Round: 0\n",
      "Round: 0\n",
      "Round: 0\n",
      "Round: 0\n"
     ]
    }
   ],
   "source": [
    "repetitions = 10\n",
    "normalize_values = np.linspace(0,1,11)\n",
    "for norm in normalize_values:\n",
    "    for i in range(repetitions):\n",
    "        parameters = {\n",
    "            \"N\": 200,\n",
    "            \"rewiring_p\": 1,\n",
    "            \"alpha\": 0.5,\n",
    "            \"rat\": 0,\n",
    "            \"rounds\": 1,\n",
    "            \"steps\": 200,\n",
    "            \"alwaysOwn\": False,\n",
    "            \"alwaysSafe\": False,\n",
    "            \"UV\": (True, None, None, False),\n",
    "            \"risk_distribution\": \"default\",\n",
    "            \"utility_function\": \"prospect\",\n",
    "            \"normalizeGames\": norm,\n",
    "            \"dependence\": 1,\n",
    "            \"risk\": 0\n",
    "        }\n",
    "\n",
    "        model_data, agent_data = Simulate.simulate(**parameters)\n",
    "        # os.makedirs(\"Data/local_maxima\", exist_ok=True)\n",
    "        agent_data.to_csv(f\"Data/local_maxima/agent_data_{norm:.1f}_rep{i}.csv\", index=False)"
   ]
  },
  {
   "cell_type": "markdown",
   "id": "ac3b180f",
   "metadata": {},
   "source": [
    "## mutation"
   ]
  },
  {
   "cell_type": "code",
   "execution_count": null,
   "id": "af58aba6",
   "metadata": {},
   "outputs": [
    {
     "name": "stdout",
     "output_type": "stream",
     "text": [
      "repetition: 0\n",
      "Round: 0\n",
      "Round: 0\n",
      "Round: 0\n",
      "Round: 0\n",
      "Round: 0\n",
      "Round: 0\n",
      "Round: 0\n",
      "Round: 0\n",
      "Round: 0\n"
     ]
    }
   ],
   "source": [
    "repetitions = 10\n",
    "mutation_rate_list = [1, 3, 30, 150, 300, 3000, 6000, 9000, 15000]\n",
    "for i in range(repetitions):\n",
    "    print(\"repetition:\", i)\n",
    "    for mutation_rate in mutation_rate_list:\n",
    "        parameters = {\n",
    "            \"N\": 200,\n",
    "            \"rewiring_p\": 1,\n",
    "            \"alpha\": 0.5,\n",
    "            \"rat\": 0,\n",
    "            \"rounds\": 1,\n",
    "            \"steps\": 200,\n",
    "            \"alwaysOwn\": False,\n",
    "            \"alwaysSafe\": False,\n",
    "            \"UV\": (True, None, None, False),\n",
    "            \"risk_distribution\": \"default\",\n",
    "            \"utility_function\": \"prospect\",\n",
    "            \"normalizeGames\": True,\n",
    "            \"dependence\": 1,\n",
    "            \"risk\": 0,\n",
    "            \"mutation_rate\": mutation_rate\n",
    "        }\n",
    "\n",
    "        timestamp = datetime.now().strftime(\"%Y-%m-%d_%H-%M\")\n",
    "        model_data, agent_data = Simulate.simulate(**parameters)\n",
    "        os.makedirs(\"Data/mutation_norm\", exist_ok=True)\n",
    "        model_data.to_csv(f\"Data/mutation_norm/model_data_{int(mutation_rate)}_{timestamp}.csv\", index=False)\n",
    "        agent_data.to_csv(f\"Data/mutation_norm/agent_data_{int(mutation_rate)}_{timestamp}.csv\", index=False)"
   ]
  },
  {
   "cell_type": "markdown",
   "id": "2684f219",
   "metadata": {},
   "source": [
    "## dependence"
   ]
  },
  {
   "cell_type": "code",
   "execution_count": null,
   "id": "bb441827",
   "metadata": {},
   "outputs": [
    {
     "name": "stdout",
     "output_type": "stream",
     "text": [
      "Round: 0\n",
      "Round: 0\n",
      "Round: 0\n",
      "Round: 0\n",
      "Round: 0\n",
      "Round: 0\n"
     ]
    }
   ],
   "source": [
    "game_list = np.array([0,0.125,0.25,0.375,0.5,0.625,0.75,0.875,1])\n",
    "dependence_list = np.array([0,0.25,0.5,0.75,1,1.25,1.5,1.75,2])\n",
    "for _ in range(10):\n",
    "    for game in game_list:\n",
    "        for dependence in dependence_list:\n",
    "            parameters = {\n",
    "                \"N\": 200,\n",
    "                \"rewiring_p\": 1,\n",
    "                \"alpha\": 0.5,\n",
    "                \"rat\": 0,\n",
    "                \"rounds\": 1,\n",
    "                \"steps\": 200,\n",
    "                \"alwaysOwn\": False,\n",
    "                \"alwaysSafe\": False,\n",
    "                \"UV\": (True, None, None, False),\n",
    "                \"risk_distribution\": \"default\",\n",
    "                \"utility_function\": \"prospect\",\n",
    "                \"normalizeGames\": True,\n",
    "                \"dependence\": dependence,\n",
    "                \"dependence_game\": game,\n",
    "                \"risk\": 0\n",
    "            }\n",
    "\n",
    "            timestamp = datetime.now().strftime(\"%Y-%m-%d_%H-%M\")\n",
    "            model_data, agent_data = Simulate.simulate(**parameters)\n",
    "            os.makedirs(\"Data/dependence_norm\", exist_ok=True)\n",
    "            # model_data.to_csv(f\"Data/dependence_norm/model_data_{dependence:.1f}_{game:.1f}_{timestamp}.csv\", index=False)\n",
    "            agent_data.to_csv(f\"Data/dependence_norm/agent_data_{dependence:.1f}_{game:.1f}_{timestamp}.csv\", index=False)"
   ]
  }
 ],
 "metadata": {
  "kernelspec": {
   "display_name": "base",
   "language": "python",
   "name": "python3"
  },
  "language_info": {
   "codemirror_mode": {
    "name": "ipython",
    "version": 3
   },
   "file_extension": ".py",
   "mimetype": "text/x-python",
   "name": "python",
   "nbconvert_exporter": "python",
   "pygments_lexer": "ipython3",
   "version": "3.11.5"
  }
 },
 "nbformat": 4,
 "nbformat_minor": 5
}
